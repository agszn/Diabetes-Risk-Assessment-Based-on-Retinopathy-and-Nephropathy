{
 "cells": [
  {
   "cell_type": "code",
   "execution_count": null,
   "metadata": {},
   "outputs": [],
   "source": [
    "from sklearn.model_selection import train_test_split\n",
    "from sklearn.ensemble import RandomForestClassifier\n",
    "from sklearn.metrics import accuracy_score\n",
    "import pandas as pd\n",
    "\n",
    "def detect_diabetes(patient_data):\n",
    "    # Load the provided data into a DataFrame\n",
    "    df1 = pd.DataFrame(patient_data[0], columns=[\"Patient ID\", \"Age\", \"Gender\", \"Duration of Diabetes\", \"Blood Pressure (Systolic)\", \"Blood Pressure (Diastolic)\", \"Urinary Albumin-to-Creatinine Ratio (ACR)\", \"Serum Creatinine Level\", \"Glomerular Filtration Rate (GFR)\", \"Kidney Biopsy Results\"])\n",
    "    df2 = pd.DataFrame(patient_data[1], columns=[\"Patient ID\", \"Age\", \"Gender\", \"Duration of Diabetes\", \"Visual Acuity (VA)\", \"Presence of Microaneurysms\", \"Presence of Hemorrhages\", \"Presence of Exudates\", \"Neovascularization\", \"OCT Results\", \"Fluorescein Angiography Results\", \"Retinal Photography Results\"])\n",
    "    \n",
    "    # Merge the two DataFrames on 'Patient ID'\n",
    "    df = pd.merge(df1, df2, on=\"Patient ID\")\n",
    "    \n",
    "    # Drop 'Patient ID' column as it's not useful for prediction\n",
    "    df.drop(columns=[\"Patient ID\"], inplace=True)\n",
    "    \n",
    "    # Convert categorical variables (gender, kidney biopsy results) into numerical using one-hot encoding\n",
    "    df = pd.get_dummies(df, columns=[\"Gender\", \"Kidney Biopsy Results\"])\n",
    "    \n",
    "    # Define features and target variable\n",
    "    X = df.drop(columns=[\"Kidney Biopsy Results_yes\"])\n",
    "    y = df[\"Kidney Biopsy Results_yes\"]\n",
    "    \n",
    "    # Split the data into training and testing sets\n",
    "    X_train, X_test, y_train, y_test = train_test_split(X, y, test_size=0.2, random_state=42)\n",
    "    \n",
    "    # Train a Random Forest classifier\n",
    "    clf = RandomForestClassifier(random_state=42)\n",
    "    clf.fit(X_train, y_train)\n",
    "    \n",
    "    # Predict on the test set\n",
    "    y_pred = clf.predict(X_test)\n",
    "    \n",
    "    # Calculate accuracy\n",
    "    accuracy = accuracy_score(y_test, y_pred)\n",
    "    \n",
    "    return \"Diabetes Detected\" if 1 in y_pred else \"No Diabetes Detected\", accuracy\n",
    "\n",
    "# Example usage:\n",
    "patient_data = [\n",
    "    [1,25,'female',3,145,87,82.59874637964863,1.0394699404634622,51.752625605268086,\"no\"],\n",
    "    [1,57,'female',17,0.9785602526266567,'no','no','yes','no',440.86498975261065,7.248885533385867,3.1573276578132115]\n",
    "]\n",
    "\n",
    "result, accuracy = detect_diabetes(patient_data)\n",
    "print(\"Result:\", result)\n",
    "print(\"Accuracy:\", accuracy)\n"
   ]
  }
 ],
 "metadata": {
  "language_info": {
   "name": "python"
  }
 },
 "nbformat": 4,
 "nbformat_minor": 2
}
